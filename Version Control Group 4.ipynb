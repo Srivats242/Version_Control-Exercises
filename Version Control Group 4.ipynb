{
 "cells": [
  {
   "cell_type": "code",
   "execution_count": 2,
   "metadata": {},
   "outputs": [
    {
     "name": "stdin",
     "output_type": "stream",
     "text": [
      "What major are you pursuing:  compsci\n"
     ]
    },
    {
     "name": "stdout",
     "output_type": "stream",
     "text": [
      "compsci\n"
     ]
    },
    {
     "name": "stdin",
     "output_type": "stream",
     "text": [
      "How long is your degree program? 5\n"
     ]
    },
    {
     "name": "stdout",
     "output_type": "stream",
     "text": [
      "5\n",
      "You are pursuing compsci for 5 years\n"
     ]
    }
   ],
   "source": [
    "studentinput = input(\"What major are you pursuing: \")\n",
    "print(studentinput)\n",
    "yearinput = input(\"How long is your degree program?\")\n",
    "print(yearinput)\n",
    "\n",
    "print(\"You are pursuing \" + studentinput + \" for \" + yearinput + \" years\")"
   ]
  },
  {
   "cell_type": "code",
   "execution_count": null,
   "metadata": {},
   "outputs": [],
   "source": []
  }
 ],
 "metadata": {
  "kernelspec": {
   "display_name": "Python 3",
   "language": "python",
   "name": "python3"
  },
  "language_info": {
   "codemirror_mode": {
    "name": "ipython",
    "version": 3
   },
   "file_extension": ".py",
   "mimetype": "text/x-python",
   "name": "python",
   "nbconvert_exporter": "python",
   "pygments_lexer": "ipython3",
   "version": "3.8.3"
  }
 },
 "nbformat": 4,
 "nbformat_minor": 4
}
