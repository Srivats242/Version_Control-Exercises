{
 "cells": [
  {
   "cell_type": "code",
   "execution_count": 7,
   "metadata": {},
   "outputs": [
    {
     "name": "stdin",
     "output_type": "stream",
     "text": [
      "What major are you pursuing:  nursing\n"
     ]
    },
    {
     "name": "stdout",
     "output_type": "stream",
     "text": [
      "nursing\n"
     ]
    },
    {
     "name": "stdin",
     "output_type": "stream",
     "text": [
      "How long is your degree program? 5\n"
     ]
    },
    {
     "name": "stdout",
     "output_type": "stream",
     "text": [
      "5\n"
     ]
    },
    {
     "name": "stdin",
     "output_type": "stream",
     "text": [
      "How many credits are you planning on taking per semester? 18\n"
     ]
    },
    {
     "name": "stdout",
     "output_type": "stream",
     "text": [
      "18\n"
     ]
    },
    {
     "name": "stdin",
     "output_type": "stream",
     "text": [
      "Are you planning on persuing a dual major,minor, or double major? dual major\n"
     ]
    },
    {
     "name": "stdout",
     "output_type": "stream",
     "text": [
      "dual major\n",
      "You are pursuing nursing for 5 years with taking 18 credits per semester as well as planning on persuing a dual major.\n"
     ]
    }
   ],
   "source": [
    "studentinput = input(\"What major are you pursuing: \")\n",
    "print(studentinput)\n",
    "yearinput = input(\"How long is your degree program?\")\n",
    "print(yearinput)\n",
    "creditsinput = input(\"How many credits are you planning on taking per semester?\")\n",
    "print(creditsinput)\n",
    "whattypeinput = input(\"Are you planning on persuing a dual major,minor, or double major?\")\n",
    "print(whattypeinput)\n",
    "\n",
    "print(\"You are pursuing \" + studentinput + \" for \" + yearinput + \" years with taking \" + creditsinput + \" credits per semester as well as planning on persuing a \" + whattypeinput + \".\")"
   ]
  },
  {
   "cell_type": "code",
   "execution_count": null,
   "metadata": {},
   "outputs": [],
   "source": []
  },
  {
   "cell_type": "code",
   "execution_count": null,
   "metadata": {},
   "outputs": [],
   "source": []
  }
 ],
 "metadata": {
  "kernelspec": {
   "display_name": "Python 3",
   "language": "python",
   "name": "python3"
  },
  "language_info": {
   "codemirror_mode": {
    "name": "ipython",
    "version": 3
   },
   "file_extension": ".py",
   "mimetype": "text/x-python",
   "name": "python",
   "nbconvert_exporter": "python",
   "pygments_lexer": "ipython3",
   "version": "3.8.3"
  }
 },
 "nbformat": 4,
 "nbformat_minor": 4
}
